{
 "cells": [
  {
   "cell_type": "code",
   "execution_count": 1,
   "id": "09db9286-65fc-40f9-8448-88020bba5c6b",
   "metadata": {},
   "outputs": [
    {
     "name": "stdout",
     "output_type": "stream",
     "text": [
      "Area with radius = 2.2 is 15.205295600000001\n"
     ]
    }
   ],
   "source": [
    "# Let's calculate the area of a circle!\n",
    "# Step 1: Define pi and the radius\n",
    "pi = 3.14159\n",
    "radius = 2.2\n",
    "\n",
    "# Step 2: Use the formula area = π * r^2\n",
    "area = pi * (radius**2)\n",
    "\n",
    "# Step 3: Print the result\n",
    "print(\"Area with radius =\", radius, \"is\", area)\n"
   ]
  },
  {
   "cell_type": "code",
   "execution_count": 2,
   "id": "7ed90385-c8c8-43cd-9b05-794fc4b583f4",
   "metadata": {},
   "outputs": [
    {
     "name": "stdout",
     "output_type": "stream",
     "text": [
      "Radius has been updated to: 3.2\n",
      "Old area (not updated): 15.205295600000001\n",
      "New area with updated radius = 3.2 is 32.169881600000004\n"
     ]
    }
   ],
   "source": [
    "# Now let's increase the radius by 1 and see what happens.\n",
    "# Notice that if we don't recalculate the area, it won’t change yet.\n",
    "\n",
    "radius = radius + 1   # increase radius\n",
    "print(\"Radius has been updated to:\", radius)\n",
    "\n",
    "# The area printed below is still the old one!\n",
    "print(\"Old area (not updated):\", area)\n",
    "\n",
    "# Now let's update the area\n",
    "area = pi * (radius**2)\n",
    "print(\"New area with updated radius =\", radius, \"is\", area)\n"
   ]
  },
  {
   "cell_type": "code",
   "execution_count": 3,
   "id": "d4e4e5f4-fdc6-481d-81e5-1a8e6509e6be",
   "metadata": {},
   "outputs": [],
   "source": [
    "# In Jupyter, you can comment or uncomment multiple lines at once\n",
    "# by selecting them and pressing CTRL + / (Windows/Linux) \n",
    "# or CMD + / (Mac).\n",
    "\n",
    "# Example (try uncommenting these lines and running them):\n",
    "# area = pi * (radius**2)\n",
    "# print(area)\n",
    "# radius = radius + 1\n",
    "# area = pi * (radius**2)\n",
    "# print(area)\n"
   ]
  },
  {
   "cell_type": "code",
   "execution_count": 4,
   "id": "a717cc07-93b4-4985-a951-36abd8923d26",
   "metadata": {},
   "outputs": [
    {
     "name": "stdout",
     "output_type": "stream",
     "text": [
      "Value of long variable: 1\n"
     ]
    }
   ],
   "source": [
    "# Jupyter also supports autocomplete when you press TAB.\n",
    "# Let's define a long variable name:\n",
    "\n",
    "a_very_long_variable_name_dont_name_them_this_long_pls = 0\n",
    "\n",
    "# Start typing \"a_ve\" and press TAB — it should autocomplete.\n",
    "# Now update its value:\n",
    "a_very_long_variable_name_dont_name_them_this_long_pls = 1\n",
    "\n",
    "# Print the value to confirm\n",
    "print(\"Value of long variable:\", a_very_long_variable_name_dont_name_them_this_long_pls)\n"
   ]
  },
  {
   "cell_type": "code",
   "execution_count": null,
   "id": "7174690b-11d7-4092-aee8-63a84b1370c4",
   "metadata": {},
   "outputs": [],
   "source": []
  }
 ],
 "metadata": {
  "kernelspec": {
   "display_name": "Python 3 (ipykernel)",
   "language": "python",
   "name": "python3"
  },
  "language_info": {
   "codemirror_mode": {
    "name": "ipython",
    "version": 3
   },
   "file_extension": ".py",
   "mimetype": "text/x-python",
   "name": "python",
   "nbconvert_exporter": "python",
   "pygments_lexer": "ipython3",
   "version": "3.12.11"
  }
 },
 "nbformat": 4,
 "nbformat_minor": 5
}
